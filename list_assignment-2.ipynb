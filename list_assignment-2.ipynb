{
 "cells": [
  {
   "cell_type": "markdown",
   "id": "b1a224d0",
   "metadata": {},
   "source": [
    "# 1.write a python program to sum all the items and multiply all the items"
   ]
  },
  {
   "cell_type": "code",
   "execution_count": 51,
   "id": "66a7659b",
   "metadata": {},
   "outputs": [
    {
     "name": "stdout",
     "output_type": "stream",
     "text": [
      "sum of items is: 15  multiply of items is: 120\n"
     ]
    }
   ],
   "source": [
    "def items(l1):\n",
    "    sum_items=0\n",
    "    mul_items=1\n",
    "    for i in range(len(l1)):\n",
    "        sum_items+=l1[i]\n",
    "        mul_items*=l1[i]\n",
    "    print(\"sum of items is:\",sum_items ,\" multiply of items is:\", mul_items)         \n",
    "items([1,2,3,4,5])        "
   ]
  },
  {
   "cell_type": "markdown",
   "id": "07076c5a",
   "metadata": {},
   "source": [
    "# 2.write a python function that takes two lists and returns True if they have at least one common member."
   ]
  },
  {
   "cell_type": "code",
   "execution_count": 53,
   "id": "208af870",
   "metadata": {},
   "outputs": [
    {
     "name": "stdout",
     "output_type": "stream",
     "text": [
      "True\n",
      "None\n"
     ]
    }
   ],
   "source": [
    "def com_lis(a,b):\n",
    "    for i in a:\n",
    "        for j in b:\n",
    "            if i==j:\n",
    "                return True\n",
    "                return None\n",
    "print(com_lis([1,2,3,4,5],[5,6,7,8,9]))\n",
    "print(com_lis([1,2,3,4,5],[6,7,8,9]))"
   ]
  },
  {
   "cell_type": "markdown",
   "id": "f864375e",
   "metadata": {},
   "source": [
    "# 3.write a python program to compute the difference between two lists."
   ]
  },
  {
   "cell_type": "code",
   "execution_count": 2,
   "id": "dc1abfcf",
   "metadata": {},
   "outputs": [
    {
     "name": "stdout",
     "output_type": "stream",
     "text": [
      "color1-color2: ['white', 'orange', 'red']\n",
      "color2-color1: ['black', 'yellow']\n"
     ]
    }
   ],
   "source": [
    "def colour(c1,c2):\n",
    "    c3=list(set(c1)-set(c2))\n",
    "    c4=list(set(c2)-set(c1))\n",
    "    print('color1-color2:',c3)\n",
    "    print('color2-color1:',c4)\n",
    "colour([\"red\",\"orange\",\"green\",\"blue\",\"white\"],[\"black\",\"yellow\",\"green\",\"blue\"])    "
   ]
  },
  {
   "cell_type": "code",
   "execution_count": null,
   "id": "8f5a948b",
   "metadata": {},
   "outputs": [],
   "source": []
  }
 ],
 "metadata": {
  "kernelspec": {
   "display_name": "Python 3 (ipykernel)",
   "language": "python",
   "name": "python3"
  },
  "language_info": {
   "codemirror_mode": {
    "name": "ipython",
    "version": 3
   },
   "file_extension": ".py",
   "mimetype": "text/x-python",
   "name": "python",
   "nbconvert_exporter": "python",
   "pygments_lexer": "ipython3",
   "version": "3.9.13"
  }
 },
 "nbformat": 4,
 "nbformat_minor": 5
}
